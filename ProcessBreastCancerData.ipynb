{
 "cells": [
  {
   "cell_type": "code",
   "execution_count": null,
   "metadata": {},
   "outputs": [],
   "source": [
    "from pyspark.sql import SparkSession\n",
    "import plotly.express as px\n",
    "import numpy as np\n",
    "import pandas as pd\n",
    "from pyspark.ml.feature import VectorAssembler,StandardScaler\n",
    "from pyspark.sql.functions import when,col,isnan\n",
    "from pyspark.ml.evaluation import BinaryClassificationEvaluator,MulticlassClassificationEvaluator\n",
    "import pickle"
   ]
  },
  {
   "cell_type": "code",
   "execution_count": 10,
   "metadata": {},
   "outputs": [
    {
     "name": "stderr",
     "output_type": "stream",
     "text": [
      "25/03/21 22:47:48 WARN SparkSession: Using an existing Spark session; only runtime SQL configurations will take effect.\n"
     ]
    }
   ],
   "source": [
    "spark = SparkSession.builder \\\n",
    "            .appName(\"Breast Cancer Classification\") \\\n",
    "            .master(\"local[*]\") \\\n",
    "            .getOrCreate()"
   ]
  },
  {
   "cell_type": "markdown",
   "metadata": {},
   "source": [
    "### Load Dataset"
   ]
  },
  {
   "cell_type": "code",
   "execution_count": 11,
   "metadata": {},
   "outputs": [],
   "source": [
    "df = spark.read.csv(\"file:///root/myproject/Data/data.csv\",header=True,inferSchema=True)"
   ]
  },
  {
   "cell_type": "markdown",
   "metadata": {},
   "source": [
    "### Show Schema"
   ]
  },
  {
   "cell_type": "code",
   "execution_count": 12,
   "metadata": {},
   "outputs": [
    {
     "name": "stdout",
     "output_type": "stream",
     "text": [
      "root\n",
      " |-- id: integer (nullable = true)\n",
      " |-- diagnosis: string (nullable = true)\n",
      " |-- radius_mean: double (nullable = true)\n",
      " |-- texture_mean: double (nullable = true)\n",
      " |-- perimeter_mean: double (nullable = true)\n",
      " |-- area_mean: double (nullable = true)\n",
      " |-- smoothness_mean: double (nullable = true)\n",
      " |-- compactness_mean: double (nullable = true)\n",
      " |-- concavity_mean: double (nullable = true)\n",
      " |-- concave points_mean: double (nullable = true)\n",
      " |-- symmetry_mean: double (nullable = true)\n",
      " |-- fractal_dimension_mean: double (nullable = true)\n",
      " |-- radius_se: double (nullable = true)\n",
      " |-- texture_se: double (nullable = true)\n",
      " |-- perimeter_se: double (nullable = true)\n",
      " |-- area_se: double (nullable = true)\n",
      " |-- smoothness_se: double (nullable = true)\n",
      " |-- compactness_se: double (nullable = true)\n",
      " |-- concavity_se: double (nullable = true)\n",
      " |-- concave points_se: double (nullable = true)\n",
      " |-- symmetry_se: double (nullable = true)\n",
      " |-- fractal_dimension_se: double (nullable = true)\n",
      " |-- radius_worst: double (nullable = true)\n",
      " |-- texture_worst: double (nullable = true)\n",
      " |-- perimeter_worst: double (nullable = true)\n",
      " |-- area_worst: double (nullable = true)\n",
      " |-- smoothness_worst: double (nullable = true)\n",
      " |-- compactness_worst: double (nullable = true)\n",
      " |-- concavity_worst: double (nullable = true)\n",
      " |-- concave points_worst: double (nullable = true)\n",
      " |-- symmetry_worst: double (nullable = true)\n",
      " |-- fractal_dimension_worst: double (nullable = true)\n",
      " |-- _c32: string (nullable = true)\n",
      "\n"
     ]
    }
   ],
   "source": [
    "df.printSchema()"
   ]
  },
  {
   "cell_type": "markdown",
   "metadata": {},
   "source": [
    "### Show 5 rows"
   ]
  },
  {
   "cell_type": "code",
   "execution_count": 13,
   "metadata": {},
   "outputs": [
    {
     "name": "stderr",
     "output_type": "stream",
     "text": [
      "25/03/21 22:47:50 WARN CSVHeaderChecker: CSV header does not conform to the schema.\n",
      " Header: id, diagnosis, radius_mean, texture_mean, perimeter_mean, area_mean, smoothness_mean, compactness_mean, concavity_mean, concave points_mean, symmetry_mean, fractal_dimension_mean, radius_se, texture_se, perimeter_se, area_se, smoothness_se, compactness_se, concavity_se, concave points_se, symmetry_se, fractal_dimension_se, radius_worst, texture_worst, perimeter_worst, area_worst, smoothness_worst, compactness_worst, concavity_worst, concave points_worst, symmetry_worst, fractal_dimension_worst, \n",
      " Schema: id, diagnosis, radius_mean, texture_mean, perimeter_mean, area_mean, smoothness_mean, compactness_mean, concavity_mean, concave points_mean, symmetry_mean, fractal_dimension_mean, radius_se, texture_se, perimeter_se, area_se, smoothness_se, compactness_se, concavity_se, concave points_se, symmetry_se, fractal_dimension_se, radius_worst, texture_worst, perimeter_worst, area_worst, smoothness_worst, compactness_worst, concavity_worst, concave points_worst, symmetry_worst, fractal_dimension_worst, _c32\n",
      "Expected: _c32 but found: \n",
      "CSV file: file:///root/myproject/Data/data.csv\n"
     ]
    },
    {
     "name": "stdout",
     "output_type": "stream",
     "text": [
      "+--------+---------+-----------+------------+--------------+---------+---------------+----------------+--------------+-------------------+-------------+----------------------+---------+----------+------------+-------+-------------+--------------+------------+-----------------+-----------+--------------------+------------+-------------+---------------+----------+----------------+-----------------+---------------+--------------------+--------------+-----------------------+----+\n",
      "|      id|diagnosis|radius_mean|texture_mean|perimeter_mean|area_mean|smoothness_mean|compactness_mean|concavity_mean|concave points_mean|symmetry_mean|fractal_dimension_mean|radius_se|texture_se|perimeter_se|area_se|smoothness_se|compactness_se|concavity_se|concave points_se|symmetry_se|fractal_dimension_se|radius_worst|texture_worst|perimeter_worst|area_worst|smoothness_worst|compactness_worst|concavity_worst|concave points_worst|symmetry_worst|fractal_dimension_worst|_c32|\n",
      "+--------+---------+-----------+------------+--------------+---------+---------------+----------------+--------------+-------------------+-------------+----------------------+---------+----------+------------+-------+-------------+--------------+------------+-----------------+-----------+--------------------+------------+-------------+---------------+----------+----------------+-----------------+---------------+--------------------+--------------+-----------------------+----+\n",
      "|  842302|        M|      17.99|       10.38|         122.8|   1001.0|         0.1184|          0.2776|        0.3001|             0.1471|       0.2419|               0.07871|    1.095|    0.9053|       8.589|  153.4|     0.006399|       0.04904|     0.05373|          0.01587|    0.03003|            0.006193|       25.38|        17.33|          184.6|    2019.0|          0.1622|           0.6656|         0.7119|              0.2654|        0.4601|                 0.1189|NULL|\n",
      "|  842517|        M|      20.57|       17.77|         132.9|   1326.0|        0.08474|         0.07864|        0.0869|            0.07017|       0.1812|               0.05667|   0.5435|    0.7339|       3.398|  74.08|     0.005225|       0.01308|      0.0186|           0.0134|    0.01389|            0.003532|       24.99|        23.41|          158.8|    1956.0|          0.1238|           0.1866|         0.2416|               0.186|         0.275|                0.08902|NULL|\n",
      "|84300903|        M|      19.69|       21.25|         130.0|   1203.0|         0.1096|          0.1599|        0.1974|             0.1279|       0.2069|               0.05999|   0.7456|    0.7869|       4.585|  94.03|      0.00615|       0.04006|     0.03832|          0.02058|     0.0225|            0.004571|       23.57|        25.53|          152.5|    1709.0|          0.1444|           0.4245|         0.4504|               0.243|        0.3613|                0.08758|NULL|\n",
      "|84348301|        M|      11.42|       20.38|         77.58|    386.1|         0.1425|          0.2839|        0.2414|             0.1052|       0.2597|               0.09744|   0.4956|     1.156|       3.445|  27.23|      0.00911|       0.07458|     0.05661|          0.01867|    0.05963|            0.009208|       14.91|         26.5|          98.87|     567.7|          0.2098|           0.8663|         0.6869|              0.2575|        0.6638|                  0.173|NULL|\n",
      "|84358402|        M|      20.29|       14.34|         135.1|   1297.0|         0.1003|          0.1328|         0.198|             0.1043|       0.1809|               0.05883|   0.7572|    0.7813|       5.438|  94.44|      0.01149|       0.02461|     0.05688|          0.01885|    0.01756|            0.005115|       22.54|        16.67|          152.2|    1575.0|          0.1374|            0.205|            0.4|              0.1625|        0.2364|                0.07678|NULL|\n",
      "+--------+---------+-----------+------------+--------------+---------+---------------+----------------+--------------+-------------------+-------------+----------------------+---------+----------+------------+-------+-------------+--------------+------------+-----------------+-----------+--------------------+------------+-------------+---------------+----------+----------------+-----------------+---------------+--------------------+--------------+-----------------------+----+\n",
      "only showing top 5 rows\n",
      "\n"
     ]
    }
   ],
   "source": [
    "df.show(5)"
   ]
  },
  {
   "cell_type": "code",
   "execution_count": 14,
   "metadata": {},
   "outputs": [],
   "source": [
    "df = df.withColumn(\"diagnosis\",when(df['diagnosis'] == 'M',1).otherwise(0))\n",
    "df = df.drop(\"Unnamed: 32\",\"id\",\"_c32\")\n",
    "df = df.withColumnRenamed(\"concave points_mean\",\"concave_points_mean\")\n",
    "df = df.withColumnRenamed(\"concave points_se\",\"concave_points_se\")\n",
    "df = df.withColumnRenamed(\"concave points_worst\",\"concave_points_worst\")"
   ]
  },
  {
   "cell_type": "code",
   "execution_count": 15,
   "metadata": {},
   "outputs": [
    {
     "name": "stdout",
     "output_type": "stream",
     "text": [
      "+---------+-----------+------------+--------------+---------+---------------+----------------+--------------+-------------------+-------------+----------------------+---------+----------+------------+-------+-------------+--------------+------------+-----------------+-----------+--------------------+------------+-------------+---------------+----------+----------------+-----------------+---------------+--------------------+--------------+-----------------------+\n",
      "|diagnosis|radius_mean|texture_mean|perimeter_mean|area_mean|smoothness_mean|compactness_mean|concavity_mean|concave_points_mean|symmetry_mean|fractal_dimension_mean|radius_se|texture_se|perimeter_se|area_se|smoothness_se|compactness_se|concavity_se|concave_points_se|symmetry_se|fractal_dimension_se|radius_worst|texture_worst|perimeter_worst|area_worst|smoothness_worst|compactness_worst|concavity_worst|concave_points_worst|symmetry_worst|fractal_dimension_worst|\n",
      "+---------+-----------+------------+--------------+---------+---------------+----------------+--------------+-------------------+-------------+----------------------+---------+----------+------------+-------+-------------+--------------+------------+-----------------+-----------+--------------------+------------+-------------+---------------+----------+----------------+-----------------+---------------+--------------------+--------------+-----------------------+\n",
      "|        1|      17.99|       10.38|         122.8|   1001.0|         0.1184|          0.2776|        0.3001|             0.1471|       0.2419|               0.07871|    1.095|    0.9053|       8.589|  153.4|     0.006399|       0.04904|     0.05373|          0.01587|    0.03003|            0.006193|       25.38|        17.33|          184.6|    2019.0|          0.1622|           0.6656|         0.7119|              0.2654|        0.4601|                 0.1189|\n",
      "|        1|      20.57|       17.77|         132.9|   1326.0|        0.08474|         0.07864|        0.0869|            0.07017|       0.1812|               0.05667|   0.5435|    0.7339|       3.398|  74.08|     0.005225|       0.01308|      0.0186|           0.0134|    0.01389|            0.003532|       24.99|        23.41|          158.8|    1956.0|          0.1238|           0.1866|         0.2416|               0.186|         0.275|                0.08902|\n",
      "|        1|      19.69|       21.25|         130.0|   1203.0|         0.1096|          0.1599|        0.1974|             0.1279|       0.2069|               0.05999|   0.7456|    0.7869|       4.585|  94.03|      0.00615|       0.04006|     0.03832|          0.02058|     0.0225|            0.004571|       23.57|        25.53|          152.5|    1709.0|          0.1444|           0.4245|         0.4504|               0.243|        0.3613|                0.08758|\n",
      "|        1|      11.42|       20.38|         77.58|    386.1|         0.1425|          0.2839|        0.2414|             0.1052|       0.2597|               0.09744|   0.4956|     1.156|       3.445|  27.23|      0.00911|       0.07458|     0.05661|          0.01867|    0.05963|            0.009208|       14.91|         26.5|          98.87|     567.7|          0.2098|           0.8663|         0.6869|              0.2575|        0.6638|                  0.173|\n",
      "+---------+-----------+------------+--------------+---------+---------------+----------------+--------------+-------------------+-------------+----------------------+---------+----------+------------+-------+-------------+--------------+------------+-----------------+-----------+--------------------+------------+-------------+---------------+----------+----------------+-----------------+---------------+--------------------+--------------+-----------------------+\n",
      "only showing top 4 rows\n",
      "\n"
     ]
    }
   ],
   "source": [
    "df.show(4)"
   ]
  },
  {
   "cell_type": "code",
   "execution_count": null,
   "metadata": {},
   "outputs": [
    {
     "data": {
      "text/plain": [
       "['diagnosis',\n",
       " 'radius_mean',\n",
       " 'texture_mean',\n",
       " 'perimeter_mean',\n",
       " 'area_mean',\n",
       " 'smoothness_mean',\n",
       " 'compactness_mean',\n",
       " 'concavity_mean',\n",
       " 'concave_points_mean',\n",
       " 'symmetry_mean',\n",
       " 'fractal_dimension_mean',\n",
       " 'radius_se',\n",
       " 'texture_se',\n",
       " 'perimeter_se',\n",
       " 'area_se',\n",
       " 'smoothness_se',\n",
       " 'compactness_se',\n",
       " 'concavity_se',\n",
       " 'concave_points_se',\n",
       " 'symmetry_se',\n",
       " 'fractal_dimension_se',\n",
       " 'radius_worst',\n",
       " 'texture_worst',\n",
       " 'perimeter_worst',\n",
       " 'area_worst',\n",
       " 'smoothness_worst',\n",
       " 'compactness_worst',\n",
       " 'concavity_worst',\n",
       " 'concave_points_worst',\n",
       " 'symmetry_worst',\n",
       " 'fractal_dimension_worst']"
      ]
     },
     "execution_count": 121,
     "metadata": {},
     "output_type": "execute_result"
    }
   ],
   "source": [
    "\n",
    "numerical_columns = df.columns\n",
    "numerical_columns"
   ]
  },
  {
   "cell_type": "markdown",
   "metadata": {},
   "source": [
    "## Check Nan Values"
   ]
  },
  {
   "cell_type": "code",
   "execution_count": null,
   "metadata": {},
   "outputs": [
    {
     "name": "stdout",
     "output_type": "stream",
     "text": [
      "\n",
      "Missing Values Analysis:\n",
      "                     Column  Missing Count  Missing Percentage\n",
      "0                 diagnosis              0                 0.0\n",
      "1               radius_mean              0                 0.0\n",
      "2              texture_mean              0                 0.0\n",
      "3            perimeter_mean              0                 0.0\n",
      "4                 area_mean              0                 0.0\n",
      "5           smoothness_mean              0                 0.0\n",
      "6          compactness_mean              0                 0.0\n",
      "7            concavity_mean              0                 0.0\n",
      "8       concave_points_mean              0                 0.0\n",
      "9             symmetry_mean              0                 0.0\n",
      "10   fractal_dimension_mean              0                 0.0\n",
      "11                radius_se              0                 0.0\n",
      "12               texture_se              0                 0.0\n",
      "13             perimeter_se              0                 0.0\n",
      "14                  area_se              0                 0.0\n",
      "15            smoothness_se              0                 0.0\n",
      "16           compactness_se              0                 0.0\n",
      "17             concavity_se              0                 0.0\n",
      "18        concave_points_se              0                 0.0\n",
      "19              symmetry_se              0                 0.0\n",
      "20     fractal_dimension_se              0                 0.0\n",
      "21             radius_worst              0                 0.0\n",
      "22            texture_worst              0                 0.0\n",
      "23          perimeter_worst              0                 0.0\n",
      "24               area_worst              0                 0.0\n",
      "25         smoothness_worst              0                 0.0\n",
      "26        compactness_worst              0                 0.0\n",
      "27          concavity_worst              0                 0.0\n",
      "28     concave_points_worst              0                 0.0\n",
      "29           symmetry_worst              0                 0.0\n",
      "30  fractal_dimension_worst              0                 0.0\n"
     ]
    }
   ],
   "source": [
    "# Check for missing values\n",
    "def check_missing_values(df):\n",
    "    missing_counts = []\n",
    "    for col_name in df.columns:\n",
    "        col_type = dict(df.dtypes)[col_name]\n",
    "        if col_type in [\"double\", \"float\"]:\n",
    "            missing_count = df.filter(col(col_name).isNull() | isnan(col(col_name))).count()\n",
    "        \n",
    "        else:\n",
    "            missing_count = df.filter(col(col_name).isNull()).count()\n",
    "       \n",
    "        missing_counts.append((col_name, missing_count, (missing_count / df.count()) * 100))\n",
    "    \n",
    "    missing_df = pd.DataFrame(missing_counts, columns=['Column', 'Missing Count', 'Missing Percentage'])\n",
    "    return missing_df.sort_values('Missing Percentage', ascending=False)\n",
    "\n",
    "missing_values_df = check_missing_values(df)\n",
    "print(\"\\nMissing Values Analysis:\")\n",
    "print(missing_values_df)"
   ]
  },
  {
   "cell_type": "markdown",
   "metadata": {},
   "source": [
    "## Scale values"
   ]
  },
  {
   "cell_type": "code",
   "execution_count": null,
   "metadata": {},
   "outputs": [],
   "source": [
    "assembler = VectorAssembler(inputCols=numerical_columns,outputCol=\"features\")\n",
    "df = assembler.transform(df)"
   ]
  },
  {
   "cell_type": "code",
   "execution_count": null,
   "metadata": {},
   "outputs": [],
   "source": [
    "scaler = StandardScaler(inputCol=\"features\", outputCol=\"scaled_features\")\n",
    "scaler_model = scaler.fit(df)\n",
    "df = scaler_model.transform(df)\n"
   ]
  },
  {
   "cell_type": "code",
   "execution_count": null,
   "metadata": {},
   "outputs": [
    {
     "name": "stdout",
     "output_type": "stream",
     "text": [
      "+---------+-----------+------------+--------------+---------+---------------+----------------+--------------+-------------------+-------------+----------------------+---------+----------+------------+-------+-------------+--------------+------------+-----------------+-----------+--------------------+------------+-------------+---------------+----------+----------------+-----------------+---------------+--------------------+--------------+-----------------------+--------------------+--------------------+\n",
      "|diagnosis|radius_mean|texture_mean|perimeter_mean|area_mean|smoothness_mean|compactness_mean|concavity_mean|concave_points_mean|symmetry_mean|fractal_dimension_mean|radius_se|texture_se|perimeter_se|area_se|smoothness_se|compactness_se|concavity_se|concave_points_se|symmetry_se|fractal_dimension_se|radius_worst|texture_worst|perimeter_worst|area_worst|smoothness_worst|compactness_worst|concavity_worst|concave_points_worst|symmetry_worst|fractal_dimension_worst|            features|     scaled_features|\n",
      "+---------+-----------+------------+--------------+---------+---------------+----------------+--------------+-------------------+-------------+----------------------+---------+----------+------------+-------+-------------+--------------+------------+-----------------+-----------+--------------------+------------+-------------+---------------+----------+----------------+-----------------+---------------+--------------------+--------------+-----------------------+--------------------+--------------------+\n",
      "|        0|      17.99|       10.38|         122.8|   1001.0|         0.1184|          0.2776|        0.3001|             0.1471|       0.2419|               0.07871|    1.095|    0.9053|       8.589|  153.4|     0.006399|       0.04904|     0.05373|          0.01587|    0.03003|            0.006193|       25.38|        17.33|          184.6|    2019.0|          0.1622|           0.6656|         0.7119|              0.2654|        0.4601|                 0.1189|[0.0,17.99,10.38,...|[0.0,5.1049235941...|\n",
      "|        0|      20.57|       17.77|         132.9|   1326.0|        0.08474|         0.07864|        0.0869|            0.07017|       0.1812|               0.05667|   0.5435|    0.7339|       3.398|  74.08|     0.005225|       0.01308|      0.0186|           0.0134|    0.01389|            0.003532|       24.99|        23.41|          158.8|    1956.0|          0.1238|           0.1866|         0.2416|               0.186|         0.275|                0.08902|[0.0,20.57,17.77,...|[0.0,5.8370360384...|\n",
      "|        0|      19.69|       21.25|         130.0|   1203.0|         0.1096|          0.1599|        0.1974|             0.1279|       0.2069|               0.05999|   0.7456|    0.7869|       4.585|  94.03|      0.00615|       0.04006|     0.03832|          0.02058|     0.0225|            0.004571|       23.57|        25.53|          152.5|    1709.0|          0.1444|           0.4245|         0.4504|               0.243|        0.3613|                0.08758|[0.0,19.69,21.25,...|[0.0,5.5873232667...|\n",
      "|        0|      11.42|       20.38|         77.58|    386.1|         0.1425|          0.2839|        0.2414|             0.1052|       0.2597|               0.09744|   0.4956|     1.156|       3.445|  27.23|      0.00911|       0.07458|     0.05661|          0.01867|    0.05963|            0.009208|       14.91|         26.5|          98.87|     567.7|          0.2098|           0.8663|         0.6869|              0.2575|        0.6638|                  0.173|[0.0,11.42,20.38,...|[0.0,3.2405907418...|\n",
      "|        0|      20.29|       14.34|         135.1|   1297.0|         0.1003|          0.1328|         0.198|             0.1043|       0.1809|               0.05883|   0.7572|    0.7813|       5.438|  94.44|      0.01149|       0.02461|     0.05688|          0.01885|    0.01756|            0.005115|       22.54|        16.67|          152.2|    1575.0|          0.1374|            0.205|            0.4|              0.1625|        0.2364|                0.07678|[0.0,20.29,14.34,...|[0.0,5.7575819747...|\n",
      "+---------+-----------+------------+--------------+---------+---------------+----------------+--------------+-------------------+-------------+----------------------+---------+----------+------------+-------+-------------+--------------+------------+-----------------+-----------+--------------------+------------+-------------+---------------+----------+----------------+-----------------+---------------+--------------------+--------------+-----------------------+--------------------+--------------------+\n",
      "only showing top 5 rows\n",
      "\n"
     ]
    }
   ],
   "source": [
    "df.show(5)"
   ]
  },
  {
   "cell_type": "code",
   "execution_count": null,
   "metadata": {},
   "outputs": [
    {
     "name": "stdout",
     "output_type": "stream",
     "text": [
      "+---------+--------------------+\n",
      "|diagnosis|     scaled_features|\n",
      "+---------+--------------------+\n",
      "|        0|[0.0,5.1049235941...|\n",
      "|        0|[0.0,5.8370360384...|\n",
      "|        0|[0.0,5.5873232667...|\n",
      "|        0|[0.0,3.2405907418...|\n",
      "|        0|[0.0,5.7575819747...|\n",
      "+---------+--------------------+\n",
      "only showing top 5 rows\n",
      "\n"
     ]
    }
   ],
   "source": [
    "df1 = df.select(\"diagnosis\",\"scaled_features\")\n",
    "df1.show(5)"
   ]
  },
  {
   "cell_type": "markdown",
   "metadata": {},
   "source": [
    "### Split Data"
   ]
  },
  {
   "cell_type": "code",
   "execution_count": null,
   "metadata": {},
   "outputs": [],
   "source": [
    "train_df, test_df = df1.randomSplit([0.8,0.2], seed=42)"
   ]
  },
  {
   "cell_type": "code",
   "execution_count": null,
   "metadata": {},
   "outputs": [
    {
     "name": "stderr",
     "output_type": "stream",
     "text": [
      "25/03/17 23:51:36 WARN Instrumentation: [6ec87699] All labels are the same value and fitIntercept=true, so the coefficients will be zeros. Training is not needed.\n"
     ]
    }
   ],
   "source": [
    "from pyspark.ml.classification import LogisticRegression\n",
    "lr = LogisticRegression(featuresCol=\"scaled_features\",labelCol='diagnosis',maxIter=10)\n",
    "model = lr.fit(train_df)"
   ]
  },
  {
   "cell_type": "code",
   "execution_count": null,
   "metadata": {},
   "outputs": [],
   "source": [
    "predictions = model.transform(test_df)\n"
   ]
  },
  {
   "cell_type": "code",
   "execution_count": null,
   "metadata": {},
   "outputs": [
    {
     "name": "stdout",
     "output_type": "stream",
     "text": [
      "+---------+----------+-----------+\n",
      "|diagnosis|prediction|probability|\n",
      "+---------+----------+-----------+\n",
      "|        0|       0.0|  [1.0,0.0]|\n",
      "|        0|       0.0|  [1.0,0.0]|\n",
      "|        0|       0.0|  [1.0,0.0]|\n",
      "|        0|       0.0|  [1.0,0.0]|\n",
      "|        0|       0.0|  [1.0,0.0]|\n",
      "|        0|       0.0|  [1.0,0.0]|\n",
      "|        0|       0.0|  [1.0,0.0]|\n",
      "|        0|       0.0|  [1.0,0.0]|\n",
      "|        0|       0.0|  [1.0,0.0]|\n",
      "|        0|       0.0|  [1.0,0.0]|\n",
      "+---------+----------+-----------+\n",
      "only showing top 10 rows\n",
      "\n"
     ]
    }
   ],
   "source": [
    "predictions.select(\"diagnosis\",\"prediction\",\"probability\").show(10)"
   ]
  },
  {
   "cell_type": "markdown",
   "metadata": {},
   "source": [
    "### Evaluator"
   ]
  },
  {
   "cell_type": "code",
   "execution_count": null,
   "metadata": {},
   "outputs": [
    {
     "name": "stdout",
     "output_type": "stream",
     "text": [
      "1.0\n"
     ]
    }
   ],
   "source": [
    "# Accuracy\n",
    "accuracy_evaluator = MulticlassClassificationEvaluator(labelCol=\"diagnosis\", predictionCol=\"prediction\", metricName=\"accuracy\")\n",
    "accuracy = accuracy_evaluator.evaluate(predictions)\n",
    "\n",
    "print(accuracy)\n"
   ]
  },
  {
   "cell_type": "code",
   "execution_count": null,
   "metadata": {},
   "outputs": [
    {
     "name": "stdout",
     "output_type": "stream",
     "text": [
      "1.0\n"
     ]
    }
   ],
   "source": [
    "# Precision\n",
    "precision_evaluator = MulticlassClassificationEvaluator(labelCol=\"diagnosis\", predictionCol=\"prediction\", metricName=\"weightedPrecision\")\n",
    "precision = precision_evaluator.evaluate(predictions)\n",
    "print(precision)"
   ]
  },
  {
   "cell_type": "code",
   "execution_count": null,
   "metadata": {},
   "outputs": [
    {
     "name": "stdout",
     "output_type": "stream",
     "text": [
      "1.0\n"
     ]
    }
   ],
   "source": [
    "# Recall\n",
    "recall_evaluator = MulticlassClassificationEvaluator(labelCol=\"diagnosis\", predictionCol=\"prediction\", metricName=\"weightedRecall\")\n",
    "recall = recall_evaluator.evaluate(predictions)\n",
    "print(recall)"
   ]
  },
  {
   "cell_type": "code",
   "execution_count": null,
   "metadata": {},
   "outputs": [],
   "source": []
  },
  {
   "cell_type": "code",
   "execution_count": 16,
   "metadata": {},
   "outputs": [
    {
     "name": "stdout",
     "output_type": "stream",
     "text": [
      "Data Overview:\n"
     ]
    },
    {
     "name": "stderr",
     "output_type": "stream",
     "text": [
      "25/03/21 22:48:02 WARN CSVHeaderChecker: CSV header does not conform to the schema.\n",
      " Header: id, diagnosis, radius_mean, texture_mean, perimeter_mean, area_mean, smoothness_mean, compactness_mean, concavity_mean, concave points_mean, symmetry_mean, fractal_dimension_mean, radius_se, texture_se, perimeter_se, area_se, smoothness_se, compactness_se, concavity_se, concave points_se, symmetry_se, fractal_dimension_se, radius_worst, texture_worst, perimeter_worst, area_worst, smoothness_worst, compactness_worst, concavity_worst, concave points_worst, symmetry_worst, fractal_dimension_worst, \n",
      " Schema: id, diagnosis, radius_mean, texture_mean, perimeter_mean, area_mean, smoothness_mean, compactness_mean, concavity_mean, concave points_mean, symmetry_mean, fractal_dimension_mean, radius_se, texture_se, perimeter_se, area_se, smoothness_se, compactness_se, concavity_se, concave points_se, symmetry_se, fractal_dimension_se, radius_worst, texture_worst, perimeter_worst, area_worst, smoothness_worst, compactness_worst, concavity_worst, concave points_worst, symmetry_worst, fractal_dimension_worst, _c32\n",
      "Expected: _c32 but found: \n",
      "CSV file: file:///root/myproject/Data/data.csv\n"
     ]
    },
    {
     "name": "stdout",
     "output_type": "stream",
     "text": [
      "+--------+---------+-----------+------------+--------------+---------+---------------+----------------+--------------+-------------------+-------------+----------------------+---------+----------+------------+-------+-------------+--------------+------------+-----------------+-----------+--------------------+------------+-------------+---------------+----------+----------------+-----------------+---------------+--------------------+--------------+-----------------------+----+\n",
      "|      id|diagnosis|radius_mean|texture_mean|perimeter_mean|area_mean|smoothness_mean|compactness_mean|concavity_mean|concave points_mean|symmetry_mean|fractal_dimension_mean|radius_se|texture_se|perimeter_se|area_se|smoothness_se|compactness_se|concavity_se|concave points_se|symmetry_se|fractal_dimension_se|radius_worst|texture_worst|perimeter_worst|area_worst|smoothness_worst|compactness_worst|concavity_worst|concave points_worst|symmetry_worst|fractal_dimension_worst|_c32|\n",
      "+--------+---------+-----------+------------+--------------+---------+---------------+----------------+--------------+-------------------+-------------+----------------------+---------+----------+------------+-------+-------------+--------------+------------+-----------------+-----------+--------------------+------------+-------------+---------------+----------+----------------+-----------------+---------------+--------------------+--------------+-----------------------+----+\n",
      "|  842302|        M|      17.99|       10.38|         122.8|   1001.0|         0.1184|          0.2776|        0.3001|             0.1471|       0.2419|               0.07871|    1.095|    0.9053|       8.589|  153.4|     0.006399|       0.04904|     0.05373|          0.01587|    0.03003|            0.006193|       25.38|        17.33|          184.6|    2019.0|          0.1622|           0.6656|         0.7119|              0.2654|        0.4601|                 0.1189|NULL|\n",
      "|  842517|        M|      20.57|       17.77|         132.9|   1326.0|        0.08474|         0.07864|        0.0869|            0.07017|       0.1812|               0.05667|   0.5435|    0.7339|       3.398|  74.08|     0.005225|       0.01308|      0.0186|           0.0134|    0.01389|            0.003532|       24.99|        23.41|          158.8|    1956.0|          0.1238|           0.1866|         0.2416|               0.186|         0.275|                0.08902|NULL|\n",
      "|84300903|        M|      19.69|       21.25|         130.0|   1203.0|         0.1096|          0.1599|        0.1974|             0.1279|       0.2069|               0.05999|   0.7456|    0.7869|       4.585|  94.03|      0.00615|       0.04006|     0.03832|          0.02058|     0.0225|            0.004571|       23.57|        25.53|          152.5|    1709.0|          0.1444|           0.4245|         0.4504|               0.243|        0.3613|                0.08758|NULL|\n",
      "|84348301|        M|      11.42|       20.38|         77.58|    386.1|         0.1425|          0.2839|        0.2414|             0.1052|       0.2597|               0.09744|   0.4956|     1.156|       3.445|  27.23|      0.00911|       0.07458|     0.05661|          0.01867|    0.05963|            0.009208|       14.91|         26.5|          98.87|     567.7|          0.2098|           0.8663|         0.6869|              0.2575|        0.6638|                  0.173|NULL|\n",
      "|84358402|        M|      20.29|       14.34|         135.1|   1297.0|         0.1003|          0.1328|         0.198|             0.1043|       0.1809|               0.05883|   0.7572|    0.7813|       5.438|  94.44|      0.01149|       0.02461|     0.05688|          0.01885|    0.01756|            0.005115|       22.54|        16.67|          152.2|    1575.0|          0.1374|            0.205|            0.4|              0.1625|        0.2364|                0.07678|NULL|\n",
      "+--------+---------+-----------+------------+--------------+---------+---------------+----------------+--------------+-------------------+-------------+----------------------+---------+----------+------------+-------+-------------+--------------+------------+-----------------+-----------+--------------------+------------+-------------+---------------+----------+----------------+-----------------+---------------+--------------------+--------------+-----------------------+----+\n",
      "only showing top 5 rows\n",
      "\n",
      "root\n",
      " |-- id: integer (nullable = true)\n",
      " |-- diagnosis: string (nullable = true)\n",
      " |-- radius_mean: double (nullable = true)\n",
      " |-- texture_mean: double (nullable = true)\n",
      " |-- perimeter_mean: double (nullable = true)\n",
      " |-- area_mean: double (nullable = true)\n",
      " |-- smoothness_mean: double (nullable = true)\n",
      " |-- compactness_mean: double (nullable = true)\n",
      " |-- concavity_mean: double (nullable = true)\n",
      " |-- concave points_mean: double (nullable = true)\n",
      " |-- symmetry_mean: double (nullable = true)\n",
      " |-- fractal_dimension_mean: double (nullable = true)\n",
      " |-- radius_se: double (nullable = true)\n",
      " |-- texture_se: double (nullable = true)\n",
      " |-- perimeter_se: double (nullable = true)\n",
      " |-- area_se: double (nullable = true)\n",
      " |-- smoothness_se: double (nullable = true)\n",
      " |-- compactness_se: double (nullable = true)\n",
      " |-- concavity_se: double (nullable = true)\n",
      " |-- concave points_se: double (nullable = true)\n",
      " |-- symmetry_se: double (nullable = true)\n",
      " |-- fractal_dimension_se: double (nullable = true)\n",
      " |-- radius_worst: double (nullable = true)\n",
      " |-- texture_worst: double (nullable = true)\n",
      " |-- perimeter_worst: double (nullable = true)\n",
      " |-- area_worst: double (nullable = true)\n",
      " |-- smoothness_worst: double (nullable = true)\n",
      " |-- compactness_worst: double (nullable = true)\n",
      " |-- concavity_worst: double (nullable = true)\n",
      " |-- concave points_worst: double (nullable = true)\n",
      " |-- symmetry_worst: double (nullable = true)\n",
      " |-- fractal_dimension_worst: double (nullable = true)\n",
      " |-- _c32: string (nullable = true)\n",
      "\n"
     ]
    },
    {
     "name": "stderr",
     "output_type": "stream",
     "text": [
      "25/03/21 22:48:12 WARN InstanceBuilder: Failed to load implementation from:dev.ludovic.netlib.blas.JNIBLAS\n",
      "                                                                                \r"
     ]
    },
    {
     "name": "stdout",
     "output_type": "stream",
     "text": [
      "Area Under ROC: 0.99\n",
      "Accuracy: 0.95\n",
      "Precision: 0.95\n",
      "Recall: 0.95\n",
      "+---------+----------+--------------------+\n",
      "|diagnosis|prediction|         probability|\n",
      "+---------+----------+--------------------+\n",
      "|        0|       0.0|[0.99999990767926...|\n",
      "|        0|       0.0|[0.99999988871828...|\n",
      "|        0|       0.0|[0.99999708433982...|\n",
      "|        0|       0.0|[0.99999997427032...|\n",
      "|        0|       0.0|[0.99999999965709...|\n",
      "|        0|       0.0|[0.99999999380780...|\n",
      "|        0|       0.0|[0.99999910608101...|\n",
      "|        0|       0.0|[0.99999999999071...|\n",
      "|        0|       0.0|[0.99997663777348...|\n",
      "|        0|       0.0|[0.99999999846509...|\n",
      "|        0|       0.0|[0.99999995875697...|\n",
      "|        0|       0.0|[0.99999269048069...|\n",
      "|        0|       0.0|[0.99999999724930...|\n",
      "|        0|       0.0|[0.99999999075562...|\n",
      "|        0|       0.0|[0.98499580654726...|\n",
      "|        0|       0.0|[0.99998841900099...|\n",
      "|        0|       0.0|[0.99999997834239...|\n",
      "|        0|       0.0|[0.99999987969877...|\n",
      "|        0|       0.0|[0.99999655725130...|\n",
      "|        0|       0.0|[0.99998888215467...|\n",
      "+---------+----------+--------------------+\n",
      "only showing top 20 rows\n",
      "\n"
     ]
    }
   ],
   "source": [
    "from pyspark.sql import SparkSession\n",
    "from pyspark.sql.functions import when\n",
    "from pyspark.ml.feature import VectorAssembler, MinMaxScaler\n",
    "from pyspark.ml.classification import LogisticRegression\n",
    "from pyspark.ml.evaluation import BinaryClassificationEvaluator, MulticlassClassificationEvaluator\n",
    "\n",
    "# Initialize Spark session\n",
    "spark = SparkSession.builder \\\n",
    "    .appName(\"Breast Cancer Classification\") \\\n",
    "    .master(\"local[*]\") \\\n",
    "    .getOrCreate()\n",
    "\n",
    "# Load the breast cancer dataset\n",
    "df = spark.read.csv(\"file:///root/myproject/Data/data.csv\", header=True, inferSchema=True)\n",
    "\n",
    "# Step 1: Inspect the Data\n",
    "print(\"Data Overview:\")\n",
    "df.show(5)\n",
    "df.printSchema()\n",
    "\n",
    "# Step 2: Encode the target variable\n",
    "# Assuming 'diagnosis' column has 'M' for malignant and 'B' for benign\n",
    "df = df.withColumn(\"diagnosis\",when(df['diagnosis'] == 'M',1).otherwise(0))\n",
    "df = df.drop(\"Unnamed: 32\",\"id\",\"_c32\")\n",
    "df = df.withColumnRenamed(\"concave points_mean\",\"concave_points_mean\")\n",
    "df = df.withColumnRenamed(\"concave points_se\",\"concave_points_se\")\n",
    "df = df.withColumnRenamed(\"concave points_worst\",\"concave_points_worst\")\n",
    "\n",
    "# Step 3: Drop the original diagnosis column\n",
    "df = df.drop(\"Unnamed: 32\",\"id\",\"_c32\")\n",
    "\n",
    "# Step 4: Select numerical features (you may need to adjust this based on your dataset)\n",
    "numerical_features = [col for col in df.columns if col != \"diagnosis\"]# This includes 'label'\n",
    "\n",
    "# Step 5: Assemble features into a single vector\n",
    "assembler = VectorAssembler(inputCols=numerical_features, outputCol=\"features\")\n",
    "df = assembler.transform(df)\n",
    "\n",
    "# Step 6: Scale features\n",
    "scaler = MinMaxScaler(inputCol=\"features\", outputCol=\"scaled_features\")\n",
    "scaler_model = scaler.fit(df)\n",
    "df = scaler_model.transform(df)\n",
    "\n",
    "# Step 7: Keep only the scaled features and the label\n",
    "df = df.select(\"diagnosis\", \"scaled_features\")\n",
    "\n",
    "# Step 8: Split the data into training and testing sets\n",
    "train_df, test_df = df.randomSplit([0.8, 0.2], seed=42)\n",
    "\n",
    "# Step 9: Train the Logistic Regression model\n",
    "lr = LogisticRegression(featuresCol=\"scaled_features\", labelCol=\"diagnosis\", maxIter=10)\n",
    "model = lr.fit(train_df)\n",
    "\n",
    "# Step 10: Make predictions on the test set\n",
    "predictions = model.transform(test_df)\n",
    "\n",
    "# Step 11: Evaluate the model\n",
    "# Fix for BinaryClassificationEvaluator\n",
    "evaluator_roc = BinaryClassificationEvaluator(\n",
    "    labelCol=\"diagnosis\", \n",
    "    rawPredictionCol=\"rawPrediction\",  # Use raw scores, not the final prediction\n",
    "    metricName=\"areaUnderROC\"\n",
    ")\n",
    "\n",
    "roc_auc = evaluator_roc.evaluate(predictions)\n",
    "\n",
    "# Additional metrics for evaluation\n",
    "accuracy_evaluator = MulticlassClassificationEvaluator(labelCol=\"diagnosis\", predictionCol=\"prediction\", metricName=\"accuracy\")\n",
    "accuracy = accuracy_evaluator.evaluate(predictions)\n",
    "\n",
    "precision_evaluator = MulticlassClassificationEvaluator(labelCol=\"diagnosis\", predictionCol=\"prediction\", metricName=\"weightedPrecision\")\n",
    "precision = precision_evaluator.evaluate(predictions)\n",
    "\n",
    "recall_evaluator = MulticlassClassificationEvaluator(labelCol=\"diagnosis\", predictionCol=\"prediction\", metricName=\"weightedRecall\")\n",
    "recall = recall_evaluator.evaluate(predictions)\n",
    "\n",
    "# Print the evaluation metrics\n",
    "print(f\"Area Under ROC: {roc_auc:.2f}\")\n",
    "print(f\"Accuracy: {accuracy:.2f}\")\n",
    "print(f\"Precision: {precision:.2f}\")\n",
    "print(f\"Recall: {recall:.2f}\")\n",
    "\n",
    "# Show predictions\n",
    "predictions.select(\"diagnosis\", \"prediction\", \"probability\").show(20)\n",
    "\n",
    "# Stop the Spark session\n",
    "#spark.stop()"
   ]
  },
  {
   "cell_type": "code",
   "execution_count": null,
   "metadata": {},
   "outputs": [
    {
     "name": "stdout",
     "output_type": "stream",
     "text": [
      "+---------+--------------------+\n",
      "|diagnosis|     scaled_features|\n",
      "+---------+--------------------+\n",
      "|        1|[0.52103743669837...|\n",
      "+---------+--------------------+\n",
      "only showing top 1 row\n",
      "\n"
     ]
    }
   ],
   "source": []
  },
  {
   "cell_type": "code",
   "execution_count": null,
   "metadata": {},
   "outputs": [
    {
     "data": {
      "text/html": [
       "<div>\n",
       "<style scoped>\n",
       "    .dataframe tbody tr th:only-of-type {\n",
       "        vertical-align: middle;\n",
       "    }\n",
       "\n",
       "    .dataframe tbody tr th {\n",
       "        vertical-align: top;\n",
       "    }\n",
       "\n",
       "    .dataframe thead th {\n",
       "        text-align: right;\n",
       "    }\n",
       "</style>\n",
       "<table border=\"1\" class=\"dataframe\">\n",
       "  <thead>\n",
       "    <tr style=\"text-align: right;\">\n",
       "      <th></th>\n",
       "      <th>diagnosis</th>\n",
       "      <th>scaled_features</th>\n",
       "      <th>rawPrediction</th>\n",
       "      <th>probability</th>\n",
       "      <th>prediction</th>\n",
       "    </tr>\n",
       "  </thead>\n",
       "  <tbody>\n",
       "    <tr>\n",
       "      <th>0</th>\n",
       "      <td>0</td>\n",
       "      <td>[0.03540158076577218, 0.5336489685492052, 0.02...</td>\n",
       "      <td>[16.197997020259766, -16.197997020259766]</td>\n",
       "      <td>[0.9999999076792686, 9.23207313929808e-08]</td>\n",
       "      <td>0.0</td>\n",
       "    </tr>\n",
       "    <tr>\n",
       "      <th>1</th>\n",
       "      <td>0</td>\n",
       "      <td>[0.07525202328553174, 0.11464321947920185, 0.0...</td>\n",
       "      <td>[16.011200757984522, -16.011200757984522]</td>\n",
       "      <td>[0.9999998887182842, 1.1128171584218194e-07]</td>\n",
       "      <td>0.0</td>\n",
       "    </tr>\n",
       "    <tr>\n",
       "      <th>2</th>\n",
       "      <td>0</td>\n",
       "      <td>[0.07652988783188987, 0.38112952316537024, 0.0...</td>\n",
       "      <td>[12.745411373178055, -12.745411373178055]</td>\n",
       "      <td>[0.9999970843398255, 2.9156601745183863e-06]</td>\n",
       "      <td>0.0</td>\n",
       "    </tr>\n",
       "    <tr>\n",
       "      <th>3</th>\n",
       "      <td>0</td>\n",
       "      <td>[0.0897818164607885, 0.19546838011498135, 0.08...</td>\n",
       "      <td>[17.475620646237267, -17.475620646237267]</td>\n",
       "      <td>[0.9999999742703207, 2.5729679276054185e-08]</td>\n",
       "      <td>0.0</td>\n",
       "    </tr>\n",
       "    <tr>\n",
       "      <th>4</th>\n",
       "      <td>0</td>\n",
       "      <td>[0.1037436698376639, 0.14034494420020285, 0.10...</td>\n",
       "      <td>[21.793565845570097, -21.793565845570097]</td>\n",
       "      <td>[0.9999999996570943, 3.429057038317751e-10]</td>\n",
       "      <td>0.0</td>\n",
       "    </tr>\n",
       "    <tr>\n",
       "      <th>...</th>\n",
       "      <td>...</td>\n",
       "      <td>...</td>\n",
       "      <td>...</td>\n",
       "      <td>...</td>\n",
       "      <td>...</td>\n",
       "    </tr>\n",
       "    <tr>\n",
       "      <th>81</th>\n",
       "      <td>1</td>\n",
       "      <td>[0.6014955748024043, 0.3902603990530943, 0.595...</td>\n",
       "      <td>[-26.51437497857117, 26.51437497857117]</td>\n",
       "      <td>[3.0545923213565262e-12, 0.9999999999969454]</td>\n",
       "      <td>1.0</td>\n",
       "    </tr>\n",
       "    <tr>\n",
       "      <th>82</th>\n",
       "      <td>1</td>\n",
       "      <td>[0.6388849448625114, 0.397362191410213, 0.6130...</td>\n",
       "      <td>[-17.59178455760737, 17.59178455760737]</td>\n",
       "      <td>[2.2907886878274066e-08, 0.9999999770921131]</td>\n",
       "      <td>1.0</td>\n",
       "    </tr>\n",
       "    <tr>\n",
       "      <th>83</th>\n",
       "      <td>1</td>\n",
       "      <td>[0.6682285011122155, 0.36557321609739596, 0.65...</td>\n",
       "      <td>[-28.730856231799578, 28.730856231799578]</td>\n",
       "      <td>[3.3292597338175813e-13, 0.999999999999667]</td>\n",
       "      <td>1.0</td>\n",
       "    </tr>\n",
       "    <tr>\n",
       "      <th>84</th>\n",
       "      <td>1</td>\n",
       "      <td>[0.6989919068578732, 0.38146770375380445, 0.71...</td>\n",
       "      <td>[-37.10174795455664, 37.10174795455664]</td>\n",
       "      <td>[7.707536576521048e-17, 0.9999999999999999]</td>\n",
       "      <td>1.0</td>\n",
       "    </tr>\n",
       "    <tr>\n",
       "      <th>85</th>\n",
       "      <td>1</td>\n",
       "      <td>[0.7624118510104597, 0.3422387554954345, 0.748...</td>\n",
       "      <td>[-44.49131385073498, 44.49131385073498]</td>\n",
       "      <td>[4.7606680695740334e-20, 1.0]</td>\n",
       "      <td>1.0</td>\n",
       "    </tr>\n",
       "  </tbody>\n",
       "</table>\n",
       "<p>86 rows × 5 columns</p>\n",
       "</div>"
      ],
      "text/plain": [
       "    diagnosis                                    scaled_features  \\\n",
       "0           0  [0.03540158076577218, 0.5336489685492052, 0.02...   \n",
       "1           0  [0.07525202328553174, 0.11464321947920185, 0.0...   \n",
       "2           0  [0.07652988783188987, 0.38112952316537024, 0.0...   \n",
       "3           0  [0.0897818164607885, 0.19546838011498135, 0.08...   \n",
       "4           0  [0.1037436698376639, 0.14034494420020285, 0.10...   \n",
       "..        ...                                                ...   \n",
       "81          1  [0.6014955748024043, 0.3902603990530943, 0.595...   \n",
       "82          1  [0.6388849448625114, 0.397362191410213, 0.6130...   \n",
       "83          1  [0.6682285011122155, 0.36557321609739596, 0.65...   \n",
       "84          1  [0.6989919068578732, 0.38146770375380445, 0.71...   \n",
       "85          1  [0.7624118510104597, 0.3422387554954345, 0.748...   \n",
       "\n",
       "                                rawPrediction  \\\n",
       "0   [16.197997020259766, -16.197997020259766]   \n",
       "1   [16.011200757984522, -16.011200757984522]   \n",
       "2   [12.745411373178055, -12.745411373178055]   \n",
       "3   [17.475620646237267, -17.475620646237267]   \n",
       "4   [21.793565845570097, -21.793565845570097]   \n",
       "..                                        ...   \n",
       "81    [-26.51437497857117, 26.51437497857117]   \n",
       "82    [-17.59178455760737, 17.59178455760737]   \n",
       "83  [-28.730856231799578, 28.730856231799578]   \n",
       "84    [-37.10174795455664, 37.10174795455664]   \n",
       "85    [-44.49131385073498, 44.49131385073498]   \n",
       "\n",
       "                                     probability  prediction  \n",
       "0     [0.9999999076792686, 9.23207313929808e-08]         0.0  \n",
       "1   [0.9999998887182842, 1.1128171584218194e-07]         0.0  \n",
       "2   [0.9999970843398255, 2.9156601745183863e-06]         0.0  \n",
       "3   [0.9999999742703207, 2.5729679276054185e-08]         0.0  \n",
       "4    [0.9999999996570943, 3.429057038317751e-10]         0.0  \n",
       "..                                           ...         ...  \n",
       "81  [3.0545923213565262e-12, 0.9999999999969454]         1.0  \n",
       "82  [2.2907886878274066e-08, 0.9999999770921131]         1.0  \n",
       "83   [3.3292597338175813e-13, 0.999999999999667]         1.0  \n",
       "84   [7.707536576521048e-17, 0.9999999999999999]         1.0  \n",
       "85                 [4.7606680695740334e-20, 1.0]         1.0  \n",
       "\n",
       "[86 rows x 5 columns]"
      ]
     },
     "execution_count": 2,
     "metadata": {},
     "output_type": "execute_result"
    }
   ],
   "source": [
    "df_predictions = predictions.toPandas()\n",
    "df_predictions"
   ]
  },
  {
   "cell_type": "code",
   "execution_count": null,
   "metadata": {},
   "outputs": [
    {
     "name": "stderr",
     "output_type": "stream",
     "text": [
      "                                                                                \r"
     ]
    },
    {
     "data": {
      "image/png": "[encoded data removed]",
      "text/plain": [
       "<Figure size 640x480 with 1 Axes>"
      ]
     },
     "metadata": {},
     "output_type": "display_data"
    }
   ],
   "source": [
    "import matplotlib.pyplot as plt\n",
    "from sklearn.metrics import roc_curve, auc\n",
    "\n",
    "# Step 12: Extract true labels and predicted probabilities\n",
    "y_true = predictions.select(\"diagnosis\").rdd.flatMap(lambda x: x).collect()\n",
    "y_scores = predictions.select(\"probability\").rdd.flatMap(lambda x: x).collect()\n",
    "y_scores = [float(prob[1]) for prob in y_scores]  # Get the probability of the positive class\n",
    "\n",
    "# Step 13: Compute ROC curve and ROC area\n",
    "fpr, tpr, thresholds = roc_curve(y_true, y_scores)\n",
    "roc_auc_value = auc(fpr, tpr)\n",
    "\n",
    "# Step 14: Plot ROC curve\n",
    "plt.figure()\n",
    "plt.plot(fpr, tpr, color='blue', label=f'ROC curve (area = {roc_auc_value:.2f})')\n",
    "plt.plot([0, 1], [0, 1], color='red', linestyle='--')  # Diagonal line\n",
    "plt.xlim([0.0, 1.0])\n",
    "plt.ylim([0.0, 1.05])\n",
    "plt.xlabel('False Positive Rate')\n",
    "plt.ylabel('True Positive Rate')\n",
    "plt.title('Receiver Operating Characteristic (ROC) Curve')\n",
    "plt.legend(loc='lower right')\n",
    "plt.grid()\n",
    "plt.show()"
   ]
  },
  {
   "cell_type": "code",
   "execution_count": null,
   "metadata": {},
   "outputs": [
    {
     "name": "stdout",
     "output_type": "stream",
     "text": [
      "Example Data Schema:\n",
      "root\n",
      " |-- radius_mean: double (nullable = true)\n",
      " |-- texture_mean: double (nullable = true)\n",
      " |-- perimeter_mean: double (nullable = true)\n",
      " |-- area_mean: double (nullable = true)\n",
      " |-- smoothness_mean: double (nullable = true)\n",
      " |-- compactness_mean: double (nullable = true)\n",
      " |-- concavity_mean: double (nullable = true)\n",
      " |-- concave_points_mean: double (nullable = true)\n",
      " |-- symmetry_mean: double (nullable = true)\n",
      " |-- fractal_dimension_mean: double (nullable = true)\n",
      " |-- radius_se: double (nullable = true)\n",
      " |-- texture_se: double (nullable = true)\n",
      " |-- perimeter_se: double (nullable = true)\n",
      " |-- area_se: double (nullable = true)\n",
      " |-- smoothness_se: double (nullable = true)\n",
      " |-- compactness_se: double (nullable = true)\n",
      " |-- concavity_se: double (nullable = true)\n",
      " |-- concave_points_se: double (nullable = true)\n",
      " |-- symmetry_se: double (nullable = true)\n",
      " |-- fractal_dimension_se: double (nullable = true)\n",
      " |-- radius_worst: double (nullable = true)\n",
      " |-- texture_worst: double (nullable = true)\n",
      " |-- perimeter_worst: double (nullable = true)\n",
      " |-- area_worst: double (nullable = true)\n",
      " |-- smoothness_worst: double (nullable = true)\n",
      " |-- compactness_worst: double (nullable = true)\n",
      " |-- concavity_worst: double (nullable = true)\n",
      " |-- concave_points_worst: double (nullable = true)\n",
      " |-- symmetry_worst: double (nullable = true)\n",
      " |-- fractal_dimension_worst: double (nullable = true)\n",
      "\n",
      "+----------------------------------------+----------+\n",
      "|probability                             |prediction|\n",
      "+----------------------------------------+----------+\n",
      "|[0.8666816680582566,0.13331833194174336]|0.0       |\n",
      "+----------------------------------------+----------+\n",
      "\n"
     ]
    }
   ],
   "source": [
    "from pyspark.sql import Row\n",
    "\n",
    "# Clean column names in training data first (add this to your training code)\n",
    "# df = df.toDF(*[col.replace(' ', '_') for col in df.columns])\n",
    "\n",
    "# Example new data with corrected column names (using underscores)\n",
    "new_examples = [\n",
    "    Row(\n",
    "        radius_mean=14.0, \n",
    "        texture_mean=20.0, \n",
    "        perimeter_mean=85.0, \n",
    "        area_mean=550.0,\n",
    "        smoothness_mean=0.1, \n",
    "        compactness_mean=0.15, \n",
    "        concavity_mean=0.2, \n",
    "        concave_points_mean=0.1,  # Corrected: underscore instead of space\n",
    "        symmetry_mean=0.25, \n",
    "        fractal_dimension_mean=0.07,\n",
    "        radius_se=0.3, \n",
    "        texture_se=1.0, \n",
    "        perimeter_se=2.1, \n",
    "        area_se=30.0, \n",
    "        smoothness_se=0.03, \n",
    "        compactness_se=0.06, \n",
    "        concavity_se=0.04, \n",
    "        concave_points_se=0.03,  # Corrected\n",
    "        symmetry_se=0.02, \n",
    "        fractal_dimension_se=0.01,\n",
    "        radius_worst=16.0, \n",
    "        texture_worst=26.0, \n",
    "        perimeter_worst=97.0, \n",
    "        area_worst=650.0, \n",
    "        smoothness_worst=0.12, \n",
    "        compactness_worst=0.18, \n",
    "        concavity_worst=0.25, \n",
    "        concave_points_worst=0.15,  # Corrected\n",
    "        symmetry_worst=0.3, \n",
    "        fractal_dimension_worst=0.09\n",
    "    )\n",
    "]\n",
    "\n",
    "# Create DataFrame with cleaned column names\n",
    "new_examples_df = spark.createDataFrame(new_examples)\n",
    "\n",
    "# Verify column names match training data\n",
    "print(\"Example Data Schema:\")\n",
    "new_examples_df.printSchema()\n",
    "\n",
    "# Reuse the same feature pipeline as training\n",
    "assembled_examples = assembler.transform(new_examples_df)\n",
    "scaled_examples = scaler_model.transform(assembled_examples)\n",
    "\n",
    "# Make predictions\n",
    "predictions = model.transform(scaled_examples)\n",
    "\n",
    "# Show results\n",
    "predictions.select(\"probability\", \"prediction\").show(truncate=False)\n"
   ]
  },
  {
   "cell_type": "code",
   "execution_count": null,
   "metadata": {},
   "outputs": [
    {
     "name": "stdout",
     "output_type": "stream",
     "text": [
      "root\n",
      " |-- radius_mean: double (nullable = true)\n",
      " |-- texture_mean: double (nullable = true)\n",
      " |-- perimeter_mean: double (nullable = true)\n",
      " |-- area_mean: double (nullable = true)\n",
      " |-- smoothness_mean: double (nullable = true)\n",
      " |-- compactness_mean: double (nullable = true)\n",
      " |-- concavity_mean: double (nullable = true)\n",
      " |-- concave_points_mean: double (nullable = true)\n",
      " |-- symmetry_mean: double (nullable = true)\n",
      " |-- fractal_dimension_mean: double (nullable = true)\n",
      " |-- radius_se: double (nullable = true)\n",
      " |-- texture_se: double (nullable = true)\n",
      " |-- perimeter_se: double (nullable = true)\n",
      " |-- area_se: double (nullable = true)\n",
      " |-- smoothness_se: double (nullable = true)\n",
      " |-- compactness_se: double (nullable = true)\n",
      " |-- concavity_se: double (nullable = true)\n",
      " |-- concave_points_se: double (nullable = true)\n",
      " |-- symmetry_se: double (nullable = true)\n",
      " |-- fractal_dimension_se: double (nullable = true)\n",
      " |-- radius_worst: double (nullable = true)\n",
      " |-- texture_worst: double (nullable = true)\n",
      " |-- perimeter_worst: double (nullable = true)\n",
      " |-- area_worst: double (nullable = true)\n",
      " |-- smoothness_worst: double (nullable = true)\n",
      " |-- compactness_worst: double (nullable = true)\n",
      " |-- concavity_worst: double (nullable = true)\n",
      " |-- concave_points_worst: double (nullable = true)\n",
      " |-- symmetry_worst: double (nullable = true)\n",
      " |-- fractal_dimension_worst: double (nullable = true)\n",
      "\n",
      "+------------------------------------------+----------+\n",
      "|probability                               |prediction|\n",
      "+------------------------------------------+----------+\n",
      "|[0.0014390156178916134,0.9985609843821084]|1.0       |\n",
      "+------------------------------------------+----------+\n",
      "\n"
     ]
    }
   ],
   "source": [
    "# Example new data (different values)\n",
    "new_examples = [\n",
    "    Row(\n",
    "        radius_mean=18.0, \n",
    "        texture_mean=22.0, \n",
    "        perimeter_mean=100.0, \n",
    "        area_mean=700.0,\n",
    "        smoothness_mean=0.12, \n",
    "        compactness_mean=0.18, \n",
    "        concavity_mean=0.25, \n",
    "        concave_points_mean=0.15,  \n",
    "        symmetry_mean=0.3, \n",
    "        fractal_dimension_mean=0.08,\n",
    "        radius_se=0.4, \n",
    "        texture_se=1.2, \n",
    "        perimeter_se=2.5, \n",
    "        area_se=40.0, \n",
    "        smoothness_se=0.04, \n",
    "        compactness_se=0.08, \n",
    "        concavity_se=0.06, \n",
    "        concave_points_se=0.05,  \n",
    "        symmetry_se=0.03, \n",
    "        fractal_dimension_se=0.02,\n",
    "        radius_worst=20.0, \n",
    "        texture_worst=30.0, \n",
    "        perimeter_worst=120.0, \n",
    "        area_worst=900.0, \n",
    "        smoothness_worst=0.15, \n",
    "        compactness_worst=0.22, \n",
    "        concavity_worst=0.30, \n",
    "        concave_points_worst=0.20,  \n",
    "        symmetry_worst=0.35, \n",
    "        fractal_dimension_worst=0.10\n",
    "    )\n",
    "]\n",
    "\n",
    "# Create DataFrame\n",
    "new_examples_df = spark.createDataFrame(new_examples)\n",
    "\n",
    "# Verify schema\n",
    "new_examples_df.printSchema()\n",
    "\n",
    "# Assemble and scale features\n",
    "assembled_examples = assembler.transform(new_examples_df)\n",
    "scaled_examples = scaler_model.transform(assembled_examples)\n",
    "\n",
    "# Predict\n",
    "predictions = model.transform(scaled_examples)\n",
    "predictions.select(\"probability\", \"prediction\").show(truncate=False)\n"
   ]
  },
  {
   "cell_type": "markdown",
   "metadata": {},
   "source": [
    "### Another test of prediction"
   ]
  },
  {
   "cell_type": "code",
   "execution_count": null,
   "metadata": {},
   "outputs": [
    {
     "name": "stdout",
     "output_type": "stream",
     "text": [
      "+---------+-------+----------+----------------+--------------+-----------------+-------------------+-----------------+--------------------+--------------+------------+---------------+----------------------+--------------------+-----------------------+--------------+------------+---------------+-----------+---------+------------+---------------+-------------+----------------+-------------+-----------+--------------+------------+----------+-------------+\n",
      "|area_mean|area_se|area_worst|compactness_mean|compactness_se|compactness_worst|concave_points_mean|concave_points_se|concave_points_worst|concavity_mean|concavity_se|concavity_worst|fractal_dimension_mean|fractal_dimension_se|fractal_dimension_worst|perimeter_mean|perimeter_se|perimeter_worst|radius_mean|radius_se|radius_worst|smoothness_mean|smoothness_se|smoothness_worst|symmetry_mean|symmetry_se|symmetry_worst|texture_mean|texture_se|texture_worst|\n",
      "+---------+-------+----------+----------------+--------------+-----------------+-------------------+-----------------+--------------------+--------------+------------+---------------+----------------------+--------------------+-----------------------+--------------+------------+---------------+-----------+---------+------------+---------------+-------------+----------------+-------------+-----------+--------------+------------+----------+-------------+\n",
      "|    450.0|   15.0|     600.0|            0.12|          0.04|             0.14|               0.07|             0.02|                0.09|           0.1|        0.03|           0.15|                  0.06|               0.007|                   0.08|          78.2|         1.5|           90.0|       12.5|     0.25|        14.0|           0.08|         0.02|             0.1|         0.18|       0.01|          0.22|        18.3|       0.8|         23.0|\n",
      "+---------+-------+----------+----------------+--------------+-----------------+-------------------+-----------------+--------------------+--------------+------------+---------------+----------------------+--------------------+-----------------------+--------------+------------+---------------+-----------+---------+------------+---------------+-------------+----------------+-------------+-----------+--------------+------------+----------+-------------+\n",
      "\n"
     ]
    }
   ],
   "source": [
    "\n",
    "# Create a list of dictionaries representing the test example\n",
    "example_data2 = [\n",
    "    {\n",
    "        \"radius_mean\": 12.5, \n",
    "        \"texture_mean\": 18.3, \n",
    "        \"perimeter_mean\": 78.2, \n",
    "        \"area_mean\": 450.0,\n",
    "        \"smoothness_mean\": 0.08, \n",
    "        \"compactness_mean\": 0.12, \n",
    "        \"concavity_mean\": 0.10, \n",
    "        \"concave_points_mean\": 0.07,\n",
    "        \"symmetry_mean\": 0.18, \n",
    "        \"fractal_dimension_mean\": 0.06,\n",
    "        \"radius_se\": 0.25, \n",
    "        \"texture_se\": 0.80, \n",
    "        \"perimeter_se\": 1.5, \n",
    "        \"area_se\": 15.0, \n",
    "        \"smoothness_se\": 0.02, \n",
    "        \"compactness_se\": 0.04, \n",
    "        \"concavity_se\": 0.03, \n",
    "        \"concave_points_se\": 0.02,\n",
    "        \"symmetry_se\": 0.01, \n",
    "        \"fractal_dimension_se\": 0.007,\n",
    "        \"radius_worst\": 14.0, \n",
    "        \"texture_worst\": 23.0, \n",
    "        \"perimeter_worst\": 90.0, \n",
    "        \"area_worst\": 600.0, \n",
    "        \"smoothness_worst\": 0.10, \n",
    "        \"compactness_worst\": 0.14, \n",
    "        \"concavity_worst\": 0.15, \n",
    "        \"concave_points_worst\": 0.09,\n",
    "        \"symmetry_worst\": 0.22, \n",
    "        \"fractal_dimension_worst\": 0.08\n",
    "    }\n",
    "]\n",
    "\n",
    "example2_df = spark.createDataFrame(example_data2)\n",
    "example2_df.show(1)"
   ]
  },
  {
   "cell_type": "code",
   "execution_count": null,
   "metadata": {},
   "outputs": [
    {
     "name": "stdout",
     "output_type": "stream",
     "text": [
      "+------------------------------------------+----------+\n",
      "|probability                               |prediction|\n",
      "+------------------------------------------+----------+\n",
      "|[0.9999870006564905,1.2999343509512151E-5]|0.0       |\n",
      "+------------------------------------------+----------+\n",
      "\n"
     ]
    }
   ],
   "source": [
    "assembled2 = assembler.transform(example2_df)\n",
    "scaled_examples2 = scaler_model.transform(assembled2)\n",
    "predictions2 = model.transform(scaled_examples2)\n",
    "predictions2.select(\"probability\",\"prediction\").show(truncate=False)"
   ]
  },
  {
   "cell_type": "code",
   "execution_count": null,
   "metadata": {},
   "outputs": [],
   "source": [
    "model.save(path=\"file:///root/myproject/LR\")"
   ]
  },
  {
   "cell_type": "code",
   "execution_count": null,
   "metadata": {},
   "outputs": [
    {
     "name": "stderr",
     "output_type": "stream",
     "text": [
      "                                                                                \r"
     ]
    }
   ],
   "source": [
    "scaler_model.save(\"file:///root/myproject/Scaler\")"
   ]
  },
  {
   "cell_type": "code",
   "execution_count": null,
   "metadata": {},
   "outputs": [],
   "source": [
    "from pyspark.ml.classification import LogisticRegressionModel\n",
    "loaded = LogisticRegressionModel.load(\"file:///root/myproject/LR\")\n",
    "loaded"
   ]
  },
  {
   "cell_type": "code",
   "execution_count": null,
   "metadata": {},
   "outputs": [
    {
     "name": "stderr",
     "output_type": "stream",
     "text": [
      "25/03/19 23:13:08 WARN SparkSession: Using an existing Spark session; only runtime SQL configurations will take effect.\n"
     ]
    }
   ],
   "source": []
  },
  {
   "cell_type": "code",
   "execution_count": null,
   "metadata": {},
   "outputs": [
    {
     "name": "stderr",
     "output_type": "stream",
     "text": [
      "Setting default log level to \"WARN\".\n",
      "To adjust logging level use sc.setLogLevel(newLevel). For SparkR, use setLogLevel(newLevel).\n",
      "                                                                                \r"
     ]
    }
   ],
   "source": [
    "from pyspark.sql.session import SparkSession\n",
    "spark = SparkSession.builder.appName(\"test\").master(\"local[*]\").getOrCreate()\n",
    "from pyspark.ml.classification import LogisticRegressionModel\n",
    "model = LogisticRegressionModel.load(\"file:///root/myproject/Model/LR\")"
   ]
  },
  {
   "cell_type": "code",
   "execution_count": null,
   "metadata": {},
   "outputs": [],
   "source": []
  },
  {
   "cell_type": "code",
   "execution_count": 22,
   "metadata": {},
   "outputs": [
    {
     "name": "stdout",
     "output_type": "stream",
     "text": [
      "+---------+--------+----------+----------------+--------------+-----------------+-------------------+-----------------+--------------------+--------------+------------+---------------+----------------------+--------------------+-----------------------+--------------+------------+---------------+-----------+---------+------------+---------------+-------------+----------------+-------------+-----------+--------------+------------+----------+-------------+\n",
      "|area_mean| area_se|area_worst|compactness_mean|compactness_se|compactness_worst|concave_points_mean|concave_points_se|concave_points_worst|concavity_mean|concavity_se|concavity_worst|fractal_dimension_mean|fractal_dimension_se|fractal_dimension_worst|perimeter_mean|perimeter_se|perimeter_worst|radius_mean|radius_se|radius_worst|smoothness_mean|smoothness_se|smoothness_worst|symmetry_mean|symmetry_se|symmetry_worst|texture_mean|texture_se|texture_worst|\n",
      "+---------+--------+----------+----------------+--------------+-----------------+-------------------+-----------------+--------------------+--------------+------------+---------------+----------------------+--------------------+-----------------------+--------------+------------+---------------+-----------+---------+------------+---------------+-------------+----------------+-------------+-----------+--------------+------------+----------+-------------+\n",
      "|2296.9178|172.4446| 4164.8874|          0.1165|        0.1002|            0.103|             0.0948|           0.0233|              0.1926|        0.1456|      0.3852|         0.1204|                0.0954|              0.0064|                 0.1171|      130.2883|     19.6129|        61.7984|     3.7001|   2.6214|     13.5262|         0.0712|       0.0095|           0.094|       0.2624|     0.0579|        0.4733|     17.9535|    4.8013|      29.5528|\n",
      "+---------+--------+----------+----------------+--------------+-----------------+-------------------+-----------------+--------------------+--------------+------------+---------------+----------------------+--------------------+-----------------------+--------------+------------+---------------+-----------+---------+------------+---------------+-------------+----------------+-------------+-----------+--------------+------------+----------+-------------+\n",
      "\n"
     ]
    }
   ],
   "source": [
    "\n",
    "# Create a list of dictionaries representing the test example\n",
    "example_data3 = [\n",
    "   {\"radius_mean\": 20.762, \"texture_mean\": 30.8226, \"perimeter_mean\": 133.5422, \"area_mean\": 424.255, \"smoothness_mean\": 0.0458, \"compactness_mean\": 0.3431, \"concavity_mean\": 0.2627, \"concave_points_mean\": 0.1902, \"symmetry_mean\": 0.0182, \"fractal_dimension_mean\": 0.0712, \"radius_se\": 1.5064, \"texture_se\": 3.1626, \"perimeter_se\": 2.9189, \"area_se\": 79.0923, \"smoothness_se\": 0.0121, \"compactness_se\": 0.0096, \"concavity_se\": 0.1574, \"concave_points_se\": 0.0323, \"symmetry_se\": 0.0008, \"fractal_dimension_se\": 0.0207, \"radius_worst\": 5.8652, \"texture_worst\": 39.0638, \"perimeter_worst\": 100.1484, \"area_worst\": 1769.8053, \"smoothness_worst\": 0.0915, \"compactness_worst\": 0.431, \"concavity_worst\": 0.2117, \"concave_points_worst\": 0.2887, \"symmetry_worst\": 0.4034, \"fractal_dimension_worst\": 0.0245}\n",
    "]\n",
    "\n",
    "example3_df = spark.createDataFrame(example_data2)\n",
    "example3_df.show(1)"
   ]
  },
  {
   "cell_type": "code",
   "execution_count": 23,
   "metadata": {},
   "outputs": [
    {
     "name": "stdout",
     "output_type": "stream",
     "text": [
      "+-------------------------------------------+----------+\n",
      "|probability                                |prediction|\n",
      "+-------------------------------------------+----------+\n",
      "|[3.9216654843137864E-16,0.9999999999999996]|1.0       |\n",
      "+-------------------------------------------+----------+\n",
      "\n"
     ]
    }
   ],
   "source": [
    "from pyspark.ml.feature import MinMaxScalerModel,VectorAssembler\n",
    "assembler3 = VectorAssembler(inputCols=numerical_features, outputCol=\"features\")\n",
    "scaler_model3 = MinMaxScalerModel.load(\"file:///root/myproject/Model/Scaler\")\n",
    "df3 = assembler3.transform(example3_df)\n",
    "scaled_examples3 = scaler_model3.transform(df3)\n",
    "predictions3 = model.transform(scaled_examples3)\n",
    "predictions3.select(\"probability\",\"prediction\").show(truncate=False)\n",
    "\n",
    "# assembled2 = assembler.transform(example2_df)\n",
    "# scaled_examples2 = scaler_model.transform(assembled2)\n",
    "# predictions2 = model.transform(scaled_examples2)\n",
    "# predictions2.select(\"probability\",\"prediction\").show(truncate=False)"
   ]
  },
  {
   "cell_type": "code",
   "execution_count": null,
   "metadata": {},
   "outputs": [],
   "source": []
  }
 ],
 "metadata": {
  "kernelspec": {
   "display_name": "Python 3",
   "language": "python",
   "name": "python3"
  },
  "language_info": {
   "codemirror_mode": {
    "name": "ipython",
    "version": 3
   },
   "file_extension": ".py",
   "mimetype": "text/x-python",
   "name": "python",
   "nbconvert_exporter": "python",
   "pygments_lexer": "ipython3",
   "version": "3.10.12"
  }
 },
 "nbformat": 4,
 "nbformat_minor": 2
}
