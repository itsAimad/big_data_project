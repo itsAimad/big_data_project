{
 "cells": [
  {
   "cell_type": "code",
   "execution_count": null,
   "metadata": {},
   "outputs": [
    {
     "name": "stdout",
     "output_type": "stream",
     "text": [
      "✅ Successfully connected to PostgreSQL port!\n"
     ]
    }
   ],
   "source": [
    "\n",
    "import socket\n",
    "\n",
    "def test_postgres_connection():\n",
    "    try:\n",
    "       \n",
    "        sock = socket.socket(socket.AF_INET, socket.SOCK_STREAM)\n",
    "      \n",
    "        sock.settimeout(3)\n",
    "        \n",
    "    \n",
    "        result = sock.connect_ex(('host.docker.internal', 5432))\n",
    "        \n",
    "        if result == 0:\n",
    "            print(\"✅ Successfully connected to PostgreSQL port!\")\n",
    "            return True\n",
    "        else:\n",
    "            print(\"❌ Could not connect to PostgreSQL port\")\n",
    "            return False\n",
    "            \n",
    "    except socket.gaierror:\n",
    "        print(\"❌ Could not resolve host.docker.internal\")\n",
    "        return False\n",
    "    except Exception as e:\n",
    "        print(f\"❌ Error: {str(e)}\")\n",
    "        return False\n",
    "    finally:\n",
    "        sock.close()\n",
    "\n",
    "if __name__ == \"__main__\":\n",
    "    test_postgres_connection()"
   ]
  },
  {
   "cell_type": "code",
   "execution_count": null,
   "metadata": {},
   "outputs": [],
   "source": []
  }
 ],
 "metadata": {
  "kernelspec": {
   "display_name": "Python 3",
   "language": "python",
   "name": "python3"
  },
  "language_info": {
   "codemirror_mode": {
    "name": "ipython",
    "version": 3
   },
   "file_extension": ".py",
   "mimetype": "text/x-python",
   "name": "python",
   "nbconvert_exporter": "python",
   "pygments_lexer": "ipython3",
   "version": "3.10.12"
  }
 },
 "nbformat": 4,
 "nbformat_minor": 2
}
